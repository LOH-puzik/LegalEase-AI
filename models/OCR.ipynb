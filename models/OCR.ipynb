{
 "cells": [
  {
   "cell_type": "code",
   "execution_count": 1,
   "id": "0dee888c-40ff-47d6-9250-620974318abc",
   "metadata": {},
   "outputs": [],
   "source": [
    "import gradio as gr                   \n",
    "from transformers import pipeline     \n",
    "import PyPDF2\n",
    "import pytesseract\n",
    "from PIL import Image\n",
    "from datasets import load_dataset"
   ]
  },
  {
   "cell_type": "code",
   "execution_count": 2,
   "id": "d0fcd374-5e1c-4b85-8f93-119dea2e6e84",
   "metadata": {},
   "outputs": [],
   "source": [
    "pytesseract.pytesseract.tesseract_cmd = r'C:\\Program Files\\Tesseract-OCR\\tesseract.exe'"
   ]
  },
  {
   "cell_type": "code",
   "execution_count": 3,
   "id": "bcabc170-a7dd-4f41-ba86-4d87fc491899",
   "metadata": {},
   "outputs": [],
   "source": [
    "translation_pipeline = pipeline('translation_en_to_fr', model = 'T5-base')"
   ]
  },
  {
   "cell_type": "code",
   "execution_count": 4,
   "id": "ccb7e435-2c9c-4cd2-af0e-25a38ea4e719",
   "metadata": {},
   "outputs": [],
   "source": [
    "def extract_text(string):\n",
    "    pdf = 'pdf'\n",
    "    if pdf in string:\n",
    "        pdf_file = open(string, \"rb\")\n",
    "        pdf_reader = PyPDF2.PdfReader(pdf_file)\n",
    "        pdf_text = \"\"\n",
    "        for page in range(len(pdf_reader.pages)):\n",
    "            pdf_text += pdf_reader.pages[1].extract_text()\n",
    "        pdf_file.close()\n",
    "        return pdf_text\n",
    "    \n",
    "    else:\n",
    "        text = pytesseract.image_to_string(Image.open(string))\n",
    "        return text\n",
    "    \n",
    "def clean_text(string):\n",
    "    text = string\n",
    "    remove_list = [\"_\", \"\\n\", \"☐\"]\n",
    "    for letter in remove_list:\n",
    "        text = text.replace(letter, \"\")\n",
    "    return text\n",
    "\n",
    "def translate_transformers(from_text):\n",
    "    text = translation_pipeline(from_text)\n",
    "    return print(text[0]['translation_text'])"
   ]
  },
  {
   "cell_type": "code",
   "execution_count": 5,
   "id": "b57aa427-ed78-493f-98b8-223dfc97a678",
   "metadata": {},
   "outputs": [],
   "source": [
    "img_to_text = extract_text('english.jpg')\n",
    "clean_text = clean_text(img_to_text)\n",
    "text = translation_pipeline(clean_text)"
   ]
  },
  {
   "cell_type": "code",
   "execution_count": 6,
   "id": "a22c35df-8cb0-4dea-b378-e56e163ca0eb",
   "metadata": {},
   "outputs": [
    {
     "data": {
      "text/plain": [
       "[{'translation_text': \"PRATIQUE DE SHADOWING 08La ville a passé un contrat avec Acme Construction pour améliorer certaines routes dans votre quartier. Les travaux commenceront le 3 juin, comme indiqué dans l'échéancier du projet. Ces travaux nécessiteront la fermeture de routes à certaines heures tout au long du projet. Nous commencerons les travaux à 7h00 et nous terminerons vers 17h00. Si vous êtes dans les limites de la zone de travail active et\"}]"
      ]
     },
     "execution_count": 6,
     "metadata": {},
     "output_type": "execute_result"
    }
   ],
   "source": [
    "text"
   ]
  },
  {
   "cell_type": "code",
   "execution_count": 7,
   "id": "c91d3d3f-a4de-4169-8290-1476e8e63151",
   "metadata": {},
   "outputs": [
    {
     "name": "stderr",
     "output_type": "stream",
     "text": [
      "C:\\Users\\Dhia\\anaconda3\\lib\\site-packages\\transformers\\models\\t5\\tokenization_t5_fast.py:155: FutureWarning: This tokenizer was incorrectly instantiated with a model max length of 512 which will be corrected in Transformers v5.\n",
      "For now, this behavior is kept to avoid breaking backwards compatibility when padding/encoding with `truncation is True`.\n",
      "- Be aware that you SHOULD NOT rely on t5-small automatically truncating your input to 512 when padding/encoding.\n",
      "- If you want to encode/pad to sequences longer than 512 you can either instantiate this tokenizer with `model_max_length` or pass `max_length` when encoding/padding.\n",
      "- To avoid this warning, please instantiate this tokenizer with `model_max_length` set to your preferred value.\n",
      "  warnings.warn(\n",
      "All model checkpoint layers were used when initializing TFT5ForConditionalGeneration.\n",
      "\n",
      "All the layers of TFT5ForConditionalGeneration were initialized from the model checkpoint at t5-small.\n",
      "If your task is similar to the task the model of the checkpoint was trained on, you can already use TFT5ForConditionalGeneration for predictions without further training.\n",
      "C:\\Users\\Dhia\\anaconda3\\lib\\site-packages\\transformers\\generation\\tf_utils.py:1800: UserWarning: Neither `max_length` nor `max_new_tokens` have been set, `max_length` will default to 20 (`self.config.max_length`). Controlling `max_length` via the config is deprecated and `max_length` will be removed from the config in v5 of Transformers -- we recommend using `max_new_tokens` to control the maximum length of the generation.\n",
      "  warnings.warn(\n"
     ]
    },
    {
     "name": "stdout",
     "output_type": "stream",
     "text": [
      "SHADOWING 08La ville a passé un contrat avec Acme Construction\n"
     ]
    }
   ],
   "source": [
    "from transformers import AutoTokenizer, TFAutoModelForSeq2SeqLM\n",
    "\n",
    "tokenizer = AutoTokenizer.from_pretrained('t5-small')\n",
    "model = TFAutoModelForSeq2SeqLM.from_pretrained('t5-small')\n",
    "\n",
    "# Encode the input text\n",
    "input_text = \"translate English to Spanish: I am a student.\"\n",
    "encoded_input = tokenizer.encode(text[0]['translation_text'], return_tensors=\"pt\")\n",
    "\n",
    "# Generate the translation\n",
    "outputs = model.generate(encoded_input)\n",
    "translation = tokenizer.decode(outputs[0], skip_special_tokens=True)\n",
    "print(translation)"
   ]
  },
  {
   "cell_type": "code",
   "execution_count": null,
   "id": "dcfc33e1-b06a-44d1-982b-9e6c909da0be",
   "metadata": {},
   "outputs": [],
   "source": []
  }
 ],
 "metadata": {
  "kernelspec": {
   "display_name": "Python 3 (ipykernel)",
   "language": "python",
   "name": "python3"
  },
  "language_info": {
   "codemirror_mode": {
    "name": "ipython",
    "version": 3
   },
   "file_extension": ".py",
   "mimetype": "text/x-python",
   "name": "python",
   "nbconvert_exporter": "python",
   "pygments_lexer": "ipython3",
   "version": "3.9.7"
  },
  "widgets": {
   "application/vnd.jupyter.widget-state+json": {
    "state": {},
    "version_major": 2,
    "version_minor": 0
   }
  }
 },
 "nbformat": 4,
 "nbformat_minor": 5
}
